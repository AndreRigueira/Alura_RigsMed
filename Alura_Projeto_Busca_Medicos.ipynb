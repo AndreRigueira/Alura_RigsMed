{
  "nbformat": 4,
  "nbformat_minor": 0,
  "metadata": {
    "colab": {
      "provenance": [],
      "include_colab_link": true
    },
    "kernelspec": {
      "name": "python3",
      "display_name": "Python 3"
    },
    "language_info": {
      "name": "python"
    }
  },
  "cells": [
    {
      "cell_type": "markdown",
      "metadata": {
        "id": "view-in-github",
        "colab_type": "text"
      },
      "source": [
        "<a href=\"https://colab.research.google.com/github/AndreRigueira/Alura_RigsMed/blob/main/Alura_Projeto_Busca_Medicos.ipynb\" target=\"_parent\"><img src=\"https://colab.research.google.com/assets/colab-badge.svg\" alt=\"Open In Colab\"/></a>"
      ]
    },
    {
      "cell_type": "code",
      "source": [
        "!pip -q install google-genai"
      ],
      "metadata": {
        "id": "UCCbECexLk_h"
      },
      "execution_count": null,
      "outputs": []
    },
    {
      "cell_type": "code",
      "source": [
        "# Configura a API Key do Google Gemini\n",
        "\n",
        "import os\n",
        "from google.colab import userdata\n",
        "\n",
        "# Criar a variável de ambiente, usando a API KEY que já deve ter sido importada e habilitada no \"Secrets\"\n",
        "os.environ[\"GOOGLE_API_KEY\"] = userdata.get('GOOGLE_API_KEY')"
      ],
      "metadata": {
        "id": "NfCqHo1tLk8P"
      },
      "execution_count": null,
      "outputs": []
    },
    {
      "cell_type": "code",
      "source": [
        "# Configura o cliente da SDK do Gemini\n",
        "\n",
        "from google import genai\n",
        "\n",
        "client = genai.Client()\n",
        "\n",
        "MODEL_ID = \"gemini-2.0-flash\""
      ],
      "metadata": {
        "id": "bV4w0H5TLk5g"
      },
      "execution_count": null,
      "outputs": []
    },
    {
      "cell_type": "code",
      "source": [
        "# Instalar Framework ADK de agentes do Google\n",
        "!pip install -q google-adk"
      ],
      "metadata": {
        "id": "hvZ3UnPI4jhJ"
      },
      "execution_count": null,
      "outputs": []
    },
    {
      "cell_type": "code",
      "execution_count": null,
      "metadata": {
        "id": "aePV2bdfDeoW"
      },
      "outputs": [],
      "source": [
        "from google.adk.agents import Agent\n",
        "from google.adk.runners import Runner\n",
        "from google.adk.sessions import InMemorySessionService\n",
        "from google.adk.tools import google_search\n",
        "from google.genai import types  # Para criar conteúdos (Content e Part)\n",
        "from datetime import date\n",
        "import textwrap # Para formatar melhor a saída de texto\n",
        "from IPython.display import display, Markdown # Para exibir texto formatado no Colab\n",
        "import requests # Para fazer requisições HTTP\n",
        "import warnings\n",
        "\n",
        "warnings.filterwarnings(\"ignore\")"
      ]
    },
    {
      "cell_type": "code",
      "source": [
        "# Função auxiliar que envia uma mensagem para um agente via Runner e retorna a resposta final\n",
        "def call_agent(agent: Agent, message_text: str) -> str:\n",
        "    # Cria um serviço de sessão em memória\n",
        "    session_service = InMemorySessionService()\n",
        "    # Cria uma nova sessão (você pode personalizar os IDs conforme necessário)\n",
        "    session = session_service.create_session(app_name=agent.name, user_id=\"user1\", session_id=\"session1\")\n",
        "    # Cria um Runner para o agente\n",
        "    runner = Runner(agent=agent, app_name=agent.name, session_service=session_service)\n",
        "    # Cria o conteúdo da mensagem de entrada\n",
        "    content = types.Content(role=\"user\", parts=[types.Part(text=message_text)])\n",
        "\n",
        "    final_response = \"\"\n",
        "    # Itera assincronamente pelos eventos retornados durante a execução do agente\n",
        "    for event in runner.run(user_id=\"user1\", session_id=\"session1\", new_message=content):\n",
        "        if event.is_final_response():\n",
        "          for part in event.content.parts:\n",
        "            if part.text is not None:\n",
        "              final_response += part.text\n",
        "              final_response += \"\\n\"\n",
        "    return final_response"
      ],
      "metadata": {
        "id": "_xP4lWhsS5ko"
      },
      "execution_count": null,
      "outputs": []
    },
    {
      "cell_type": "code",
      "source": [
        "# Função auxiliar para exibir texto formatado em Markdown no Colab\n",
        "def to_markdown(text):\n",
        "  text = text.replace('•', '  *')\n",
        "  return Markdown(textwrap.indent(text, '> ', predicate=lambda _: True))"
      ],
      "metadata": {
        "id": "8dosiodaxfFR"
      },
      "execution_count": null,
      "outputs": []
    },
    {
      "cell_type": "code",
      "source": [
        "##########################################\n",
        "# --- Agente 1: Buscador de Médicos e Clínicas --- #\n",
        "##########################################\n",
        "def agente_buscador(localidade, especialidade):\n",
        "    buscador = Agent(\n",
        "        name=\"agente_buscador\",\n",
        "        model=\"gemini-2.0-flash\",\n",
        "        instruction=\"\"\"\n",
        "        Você é um assistente de pesquisa. A sua tarefa é usar a ferramenta de busca do google (google_search)\n",
        "        para identificar médicos e clínicas na cidade e na especialidade indicadas.\n",
        "        Foque em no mínimo 5 e no máximo 15 lançamentos relevantes, com base nas avaliações, caso hajam, e no entusiasmo dessas avaliações.\n",
        "        Se um médico ou clínica tiver poucas reações entusiasmadas ou tiver mais avaliações negativas do que positivas, é possível que ele não seja tão relevante assim\n",
        "        e pode ser substituído por outro que tenha mais.\n",
        "        Esses lançmentos relevantes devem ser atuais, de no máximo um ano antes da data de hoje.\n",
        "        \"\"\",\n",
        "        description=\"Agente que busca informações no Google\",\n",
        "        tools=[google_search]\n",
        "    )\n",
        "\n",
        "    entrada_do_agente_buscador = f\"Localidade: {localidade}\\nEspecialidade Médica: {especialidade}\"\n",
        "\n",
        "    # Executa o agente\n",
        "    lancamentos = call_agent(buscador, entrada_do_agente_buscador)\n",
        "    return lancamentos"
      ],
      "metadata": {
        "id": "o8bqIfi_DyH8"
      },
      "execution_count": null,
      "outputs": []
    },
    {
      "cell_type": "code",
      "source": [
        "############################################################\n",
        "# --- Agente 2: Avaliador dos Especilistas localizados --- #\n",
        "############################################################\n",
        "def agente_avaliador(especialidade, lancamentos):\n",
        "    avaliador = Agent(\n",
        "        name=\"agente_avaliador\",\n",
        "        model=\"gemini-2.0-flash\",\n",
        "        # Inserir as instruções do Agente Avaliador\n",
        "        instruction=\"\"\"\n",
        "        Você é um avaliador de reputação, especialista em medicina. Com base na lista de\n",
        "        lançamentos mais recentes e relevantes buscados, você deve:\n",
        "        Usar a ferramenta de busca do Google (google_search) para definir a reputação de cada\n",
        "        especialista (médico ou clínica). Você também pode usar o (google_search) para encontrar mais\n",
        "        informações sobre esse profissionais e estabelecimentos.\n",
        "        Ao final, você irá escolher os médicos e estabelecimentos melhor avaliados e com melhor\n",
        "        reputação.\n",
        "        \"\"\",\n",
        "        description=\"Agente que avalia as indicações\",\n",
        "        tools=[google_search]\n",
        "    )\n",
        "\n",
        "    entrada_do_agente_avaliador = f\"Especialidade:{especialidade}\\nLançamentos buscados: {lancamentos_buscados}\"\n",
        "    # Executa o agente\n",
        "    lista_indicados = call_agent(avaliador, entrada_do_agente_avaliador)\n",
        "    return lista_indicados"
      ],
      "metadata": {
        "id": "y3VO1uo5_ghO"
      },
      "execution_count": null,
      "outputs": []
    },
    {
      "cell_type": "code",
      "source": [
        "##########################################\n",
        "# --- Agente 3: Redator da Indicação --- #\n",
        "##########################################\n",
        "def agente_redator(especialidade, lista_indicados):\n",
        "    redator = Agent(\n",
        "        name=\"agente_redator\",\n",
        "        model=\"gemini-2.0-flash\",\n",
        "        instruction=\"\"\"\n",
        "            Você é uma Secretária especializada em criar documentos e listas.\n",
        "            Utilize as indicações fornecidas na Lista de indicados, com base nisso,\n",
        "            faça uma lista com o nome do Médico ou Estabelecimento, um sucinta avaliação, o telefone de contato, e o link do website onde foi encontrada a informação via (google_search).\n",
        "            A lista deve ser organizada e de fácil entendimento.\n",
        "            \"\"\",\n",
        "        description=\"Agente redator da lista de Indicações\"\n",
        "    )\n",
        "    entrada_do_agente_redator = f\"Especilidade: {especialidade}\\nLista de Indicados: {lista_indicados}\"\n",
        "    # Executa o agente\n",
        "    lista = call_agent(redator, entrada_do_agente_redator)\n",
        "    return lista"
      ],
      "metadata": {
        "id": "uOqlg2TRLVh1"
      },
      "execution_count": null,
      "outputs": []
    },
    {
      "cell_type": "code",
      "source": [
        "data_de_hoje = date.today().strftime(\"%d/%m/%Y\")\n",
        "\n",
        "print(\"🩺 Iniciando o Sistema de Indicação de Especialistas Médicos ﮩ٨ـﮩﮩ٨ـ♡ﮩ٨ـﮩﮩ٨ـ\")\n",
        "\n",
        "# --- Obter o Tópico do Usuário ---\n",
        "localidade = input(\"❓ Por favor, digite a LOCALIDADE sobre o qual você quer indicações: \")\n",
        "\n",
        "# Inserir lógica do sistema de agentes\n",
        "if not localidade:\n",
        "  print(\"Por favor, insira uma localidade.\")\n",
        "  localidade = input(\"❓ Por favor, digite a LOCALIDADE sobre o qual você quer indicações: \")\n",
        "else:\n",
        "  especialidade = input(\"❓ Por favor, digite a ESPECIALIDADE médica sobre o qual você quer indicações: \")\n",
        "  if not especialidade:\n",
        "    print(\"Por favor, insira uma especialidade médica.\")\n",
        "    especialidade = input(\"❓ Por favor, digite a ESPECIALIDADE médica sobre o qual você quer indicações: \")\n",
        "  else:\n",
        "    print(f\"Perfeito! Vamos então criar uma Lista de indicações de {especialidade} em {localidade}!\")\n",
        "\n",
        "  # Incluindo o agente buscador\n",
        "  lancamentos_buscados = agente_buscador(localidade, especialidade)\n",
        "  print(\"\\n--- Resultado do Agente 1 (Buscador) ---\\n\")\n",
        "  display(to_markdown(lancamentos_buscados))\n",
        "  print(\"-------------------------------------------------------------------\")\n",
        "\n",
        " # Incluindo o agente avaliador\n",
        "  lista_indicados = agente_avaliador(especialidade, lancamentos_buscados)\n",
        "  print(\"\\n--- Resultado do Agente 2 (Avaliador) ---\\n\")\n",
        "  display(to_markdown(lista_indicados))\n",
        "  print(\"-------------------------------------------------------------------\")\n",
        "\n",
        "# Incluindo o Agente Redator da Lista\n",
        "  rascunho_da_lista = agente_redator(especialidade, lista_indicados)\n",
        "  print(\"\\n--- Resultado do Agente 3 (Redator) ---\\n\")\n",
        "  display(to_markdown(rascunho_da_lista))\n",
        "  print(\"-------------------------------------------------------------------\")"
      ],
      "metadata": {
        "id": "630ummxz4myx",
        "colab": {
          "base_uri": "https://localhost:8080/",
          "height": 1000
        },
        "outputId": "189193bc-a5ce-4f8c-8bf6-96fd995a5035"
      },
      "execution_count": null,
      "outputs": [
        {
          "output_type": "stream",
          "name": "stdout",
          "text": [
            "🩺 Iniciando o Sistema de Indicação de Especialistas Médicos ﮩ٨ـﮩﮩ٨ـ♡ﮩ٨ـﮩﮩ٨ـ\n",
            "❓ Por favor, digite a LOCALIDADE sobre o qual você quer indicações: Brasília\n",
            "❓ Por favor, digite a ESPECIALIDADE médica sobre o qual você quer indicações: Oftalmologista\n",
            "Perfeito! Vamos então criar uma Lista de indicações de Oftalmologista em Brasília!\n",
            "\n",
            "--- Resultado do Agente 1 (Buscador) ---\n",
            "\n"
          ]
        },
        {
          "output_type": "display_data",
          "data": {
            "text/plain": [
              "<IPython.core.display.Markdown object>"
            ],
            "text/markdown": "> Ok, estou procurando por oftalmologistas em Brasília. Aqui estão algumas opções que encontrei, levando em conta avaliações, entusiasmo e atualidade:\n> \n> \n> Com base nas minhas buscas, aqui estão alguns oftalmologistas e clínicas em Brasília que parecem promissores, com ênfase em avaliações positivas e informações recentes:\n> \n> 1.  **Mondevi Hospital Oftalmológico:** Considerado por alguns pacientes como a \"melhor clínica oftalmológica de Brasília\". Eles oferecem uma variedade de serviços, incluindo cirurgia refrativa, glaucoma, catarata e ceratocone. A clínica é bem equipada com tecnologia moderna e tem um corpo clínico qualificado. O Dr. Mário Jampaulo é particularmente recomendado.\n> 2.  **Dr. Anderson Braz:** Oftalmologista com muitas avaliações positivas no Doctoralia. Ele tem experiência em cirurgia refrativa, catarata e cirurgia oftalmológica.\n> 3.  **Dr. Henrique Jorge de Paula:** Também possui muitas avaliações positivas no Doctoralia. Ele atende na Clínica Pacini de Oftalmologia.\n> 4.  **Clínica Pacini de Oftalmologia:** Além do Dr. Henrique, a clínica como um todo parece ser uma boa opção.\n> 5.  **Mirar Oftalmologia:** Uma clínica particular que foca em um tratamento médico personalizado e completo. Eles oferecem oftalmologia geral, cirurgia refrativa e tratamento para ceratocone.\n> 6.  **Dr. Hamilton Moreira:** Diretor clínico do Médicos de Olhos S.A.. Participou do CXLIX FACO CLUBE BRASÍLIA, um evento importante na área de oftalmologia. Tem experiência em cirurgia facorefrativa.\n> 7.  **Hospital Oftalmológico de Brasília:** Um dos locais onde o CXLIX FACO CLUBE BRASÍLIA foi realizado.\n> 8. **Pacini Hospital Oftalmológico:** O hospital apoia projetos sociais. Possui unidade em Taguatinga.\n> \n> **Eventos e Congressos:**\n> \n> *   **68° Congresso Brasileiro de Oftalmologia (CBO 2024):** Realizado em Brasília em setembro de 2024, é um evento de grande prestígio na área.\n> *   **CXLIX FACO CLUBE BRASÍLIA:** Um evento de destaque que reúne profissionais para discutir avanços em cirurgias oculares.\n> \n> **Observações:**\n> \n> *   As avaliações são um bom indicador, mas é sempre recomendável verificar a experiência específica do médico com o seu problema.\n> *   Consulte os sites ou entre em contato com as clínicas para obter informações mais detalhadas sobre os serviços oferecidos e os convênios aceitos.\n> *   Verifique se os médicos participam de eventos e congressos na área, o que pode indicar um compromisso com a atualização e o aprimoramento profissional.\n"
          },
          "metadata": {}
        },
        {
          "output_type": "stream",
          "name": "stdout",
          "text": [
            "-------------------------------------------------------------------\n",
            "\n",
            "--- Resultado do Agente 2 (Avaliador) ---\n",
            "\n"
          ]
        },
        {
          "output_type": "display_data",
          "data": {
            "text/plain": [
              "<IPython.core.display.Markdown object>"
            ],
            "text/markdown": "> Para avaliar a reputação dos oftalmologistas e clínicas em Brasília mencionados, usarei a busca do Google para encontrar informações adicionais, avaliações e notícias relevantes sobre cada um. Isso me ajudará a determinar quais profissionais e estabelecimentos são mais bem avaliados e têm melhor reputação.\n> \n> \n> Com base nas informações encontradas, aqui está uma avaliação da reputação dos oftalmologistas e clínicas em Brasília:\n> \n> **Oftalmologistas e Clínicas:**\n> \n> 1.  **Mondevi Hospital Oftalmológico:** Considerada por alguns pacientes como a \"melhor clínica oftalmológica de Brasília\" \\[12, 27, 28]. Possui avaliações positivas e é bem equipada com tecnologia moderna e um corpo clínico qualificado. O Dr. Mário Jampaulo é particularmente recomendado \\[8]. A clínica possui uma avaliação média de 4,7 de 5,0 estrelas no Google \\[12].\n> 2.  **Dr. Anderson Braz:** Oftalmologista com muitas avaliações positivas no Doctoralia \\[2, 3, 4, 5, 6]. É especialista em cirurgia refrativa e córnea, com experiência de anos \\[5]. Considerado o oftalmologista mais bem avaliado de Brasília, com centenas de avaliações 5 estrelas no Google \\[5, 6].\n> 3.  **Dr. Henrique Jorge de Paula:** Possui muitas avaliações positivas no Doctoralia \\[4, 7, 24, 25]. Atende na Clínica Pacini de Oftalmologia \\[4].\n> 4.  **Clínica Pacini de Oftalmologia:** A clínica como um todo parece ser uma boa opção, com avaliações positivas no Doctoralia \\[4, 10]. Possui uma equipe médica excelente e equipamentos modernos \\[10].\n> 5.  **Mirar Oftalmologia:** Clínica particular que foca em um tratamento médico personalizado e completo \\[15, 17]. Oferece oftalmologia geral, cirurgia refrativa e tratamento para ceratocone \\[17].\n> 6.  **Dr. Hamilton Moreira:** Diretor clínico do Médicos de Olhos S.A. \\[9, 11, 31, 38]. Participou do CXLIX FACO CLUBE BRASÍLIA e tem experiência em cirurgia facorefrativa \\[9]. Foi eleito o novo presidente do Conselho Brasileiro de Oftalmologia (CBO) \\[40].\n> 7.  **Médicos de Olhos S.A.:** Está entre as maiores redes de clínicas do país, com 16 unidades \\[18]. Possui um aplicativo para agendamento de consultas e exames \\[37]. A empresa busca inovação para estreitar o relacionamento com seus pacientes \\[18, 26, 31].\n> 8.  **Hospital Oftalmológico de Brasília (HOB):** Há referências sobre ele, mas sem muitos detalhes nas buscas \\[13, 20].\n> 9.  **Pacini Hospital Oftalmológico:** Possui unidades na Asa Sul e Taguatinga \\[8, 16, 35]. Oferece uma ampla variedade de exames e cirurgias \\[23, 39]. O hospital apoia projetos sociais e tem responsabilidade social \\[8, 33, 35].\n> \n> **Considerações Finais:**\n> \n> *   **Melhor Reputação:** Com base nas informações disponíveis, o **Dr. Anderson Braz** e o **Mondevi Hospital Oftalmológico** parecem ter a melhor reputação, devido às avaliações positivas e à qualidade dos serviços oferecidos. A **Clínica Pacini de Oftalmologia** e o **Pacini Hospital Oftalmológico** também se destacam pela tradição e variedade de serviços.\n> *   **Destaque:** O **Dr. Hamilton Moreira** é um nome importante na área, com experiência e participação em eventos relevantes, além de ocupar um cargo de direção no Médicos de Olhos S.A.\n> *   **Recomendações:** É sempre recomendável verificar a experiência específica do médico com o seu problema e consultar os sites ou entrar em contato com as clínicas para obter informações mais detalhadas.\n> \n> **Observações:**\n> \n> *   As avaliações são um bom indicador, mas é sempre recomendável verificar a experiência específica do médico com o seu problema.\n> *   Consulte os sites ou entre em contato com as clínicas para obter informações mais detalhadas sobre os serviços oferecidos e os convênios aceitos.\n> *   Verifique se os médicos participam de eventos e congressos na área, o que pode indicar um compromisso com a atualização e o aprimoramento profissional.\n> \n"
          },
          "metadata": {}
        },
        {
          "output_type": "stream",
          "name": "stdout",
          "text": [
            "-------------------------------------------------------------------\n",
            "\n",
            "--- Resultado do Agente 3 (Redator) ---\n",
            "\n"
          ]
        },
        {
          "output_type": "display_data",
          "data": {
            "text/plain": [
              "<IPython.core.display.Markdown object>"
            ],
            "text/markdown": "> ## Lista de Indicações - Oftalmologistas e Clínicas em Brasília\n> \n> **1. Mondevi Hospital Oftalmológico**\n> \n> *   **Avaliação:** Considerada por alguns pacientes como a \"melhor clínica oftalmológica de Brasília\". Bem equipada e com corpo clínico qualificado.\n> *   **Telefone:** Não encontrado diretamente na pesquisa. Recomenda-se buscar no site.\n> *   **Website:** Não listado diretamente. Buscar por \"Mondevi Hospital Oftalmológico Brasília\" no Google.\n> \n> **2. Dr. Anderson Braz**\n> \n> *   **Avaliação:** Oftalmologista com muitas avaliações positivas, especialista em cirurgia refrativa e córnea. Considerado um dos mais bem avaliados de Brasília.\n> *   **Telefone:** Não encontrado diretamente na pesquisa. Recomenda-se buscar no Doctoralia.\n> *   **Website:** Não listado diretamente. Buscar por \"Dr. Anderson Braz Oftalmologista Brasília\" no Google ou Doctoralia.\n> \n> **3. Dr. Henrique Jorge de Paula**\n> \n> *   **Avaliação:** Possui muitas avaliações positivas no Doctoralia. Atende na Clínica Pacini de Oftalmologia.\n> *   **Telefone:** Não encontrado diretamente na pesquisa. Recomenda-se buscar no Doctoralia.\n> *   **Website:** Não listado diretamente. Buscar por \"Dr. Henrique Jorge de Paula Oftalmologista Brasília\" no Google ou Doctoralia, ou verificar o site da Clínica Pacini.\n> \n> **4. Clínica Pacini de Oftalmologia**\n> \n> *   **Avaliação:** Clínica com avaliações positivas, equipe médica excelente e equipamentos modernos.\n> *   **Telefone:** Não encontrado diretamente na pesquisa. Recomenda-se buscar no Google.\n> *   **Website:** Não listado diretamente. Buscar por \"Clínica Pacini Oftalmologia Brasília\" no Google.\n> \n> **5. Mirar Oftalmologia**\n> \n> *   **Avaliação:** Clínica particular com foco em tratamento médico personalizado e completo.\n> *   **Telefone:** Não encontrado diretamente na pesquisa. Recomenda-se buscar no Google.\n> *   **Website:** Não listado diretamente. Buscar por \"Mirar Oftalmologia Brasília\" no Google.\n> \n> **6. Dr. Hamilton Moreira**\n> \n> *   **Avaliação:** Diretor clínico do Médicos de Olhos S.A., experiente em cirurgia facorefrativa e eleito presidente do Conselho Brasileiro de Oftalmologia (CBO).\n> *   **Telefone:** Não encontrado diretamente na pesquisa. Recomenda-se buscar no site do Médicos de Olhos S.A.\n> *   **Website:** Não listado diretamente. Buscar por \"Médicos de Olhos S.A.\" no Google.\n> \n> **7. Médicos de Olhos S.A.**\n> \n> *   **Avaliação:** Uma das maiores redes de clínicas do país, com várias unidades.\n> *   **Telefone:** Não encontrado diretamente na pesquisa. Recomenda-se buscar no site.\n> *   **Website:** Não listado diretamente. Buscar por \"Médicos de Olhos S.A.\" no Google.\n> \n> **8. Hospital Oftalmológico de Brasília (HOB)**\n> \n> *   **Avaliação:** Há referências, mas sem muitos detalhes nas buscas.\n> *   **Telefone:** Não encontrado diretamente na pesquisa. Recomenda-se buscar no Google.\n> *   **Website:** Não listado diretamente. Buscar por \"Hospital Oftalmológico de Brasília (HOB)\" no Google.\n> \n> **9. Pacini Hospital Oftalmológico**\n> \n> *   **Avaliação:** Possui unidades na Asa Sul e Taguatinga, oferece ampla variedade de exames e cirurgias, e apoia projetos sociais.\n> *   **Telefone:** Não encontrado diretamente na pesquisa. Recomenda-se buscar no Google.\n> *   **Website:** Não listado diretamente. Buscar por \"Pacini Hospital Oftalmológico Brasília\" no Google.\n> \n"
          },
          "metadata": {}
        },
        {
          "output_type": "stream",
          "name": "stdout",
          "text": [
            "-------------------------------------------------------------------\n"
          ]
        }
      ]
    }
  ]
}