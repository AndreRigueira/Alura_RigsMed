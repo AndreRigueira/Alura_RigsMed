{
  "nbformat": 4,
  "nbformat_minor": 0,
  "metadata": {
    "colab": {
      "provenance": [],
      "include_colab_link": true
    },
    "kernelspec": {
      "name": "python3",
      "display_name": "Python 3"
    },
    "language_info": {
      "name": "python"
    }
  },
  "cells": [
    {
      "cell_type": "markdown",
      "metadata": {
        "id": "view-in-github",
        "colab_type": "text"
      },
      "source": [
        "<a href=\"https://colab.research.google.com/github/AndreRigueira/Alura_RigsMed/blob/main/Alura_Projeto_Busca_Medicos.ipynb\" target=\"_parent\"><img src=\"https://colab.research.google.com/assets/colab-badge.svg\" alt=\"Open In Colab\"/></a>"
      ]
    },
    {
      "cell_type": "code",
      "source": [
        "!pip -q install google-genai"
      ],
      "metadata": {
        "id": "UCCbECexLk_h"
      },
      "execution_count": null,
      "outputs": []
    },
    {
      "cell_type": "code",
      "source": [
        "# Configura a API Key do Google Gemini\n",
        "\n",
        "import os\n",
        "from google.colab import userdata\n",
        "\n",
        "# Criar a variável de ambiente, usando a API KEY que já deve ter sido importada e habilitada no \"Secrets\"\n",
        "os.environ[\"GOOGLE_API_KEY\"] = userdata.get('GOOGLE_API_KEY')"
      ],
      "metadata": {
        "id": "NfCqHo1tLk8P"
      },
      "execution_count": null,
      "outputs": []
    },
    {
      "cell_type": "code",
      "source": [
        "# Configura o cliente da SDK do Gemini\n",
        "\n",
        "from google import genai\n",
        "\n",
        "client = genai.Client()\n",
        "\n",
        "MODEL_ID = \"gemini-2.0-flash\""
      ],
      "metadata": {
        "id": "bV4w0H5TLk5g"
      },
      "execution_count": null,
      "outputs": []
    },
    {
      "cell_type": "code",
      "source": [
        "# Instalar Framework ADK de agentes do Google\n",
        "!pip install -q google-adk"
      ],
      "metadata": {
        "id": "hvZ3UnPI4jhJ"
      },
      "execution_count": null,
      "outputs": []
    },
    {
      "cell_type": "code",
      "execution_count": null,
      "metadata": {
        "id": "aePV2bdfDeoW"
      },
      "outputs": [],
      "source": [
        "from google.adk.agents import Agent\n",
        "from google.adk.runners import Runner\n",
        "from google.adk.sessions import InMemorySessionService\n",
        "from google.adk.tools import google_search\n",
        "from google.genai import types  # Para criar conteúdos (Content e Part)\n",
        "from datetime import date\n",
        "import textwrap # Para formatar melhor a saída de texto\n",
        "from IPython.display import display, Markdown # Para exibir texto formatado no Colab\n",
        "import requests # Para fazer requisições HTTP\n",
        "import warnings\n",
        "\n",
        "warnings.filterwarnings(\"ignore\")"
      ]
    },
    {
      "cell_type": "code",
      "source": [
        "# Função auxiliar que envia uma mensagem para um agente via Runner e retorna a resposta final\n",
        "def call_agent(agent: Agent, message_text: str) -> str:\n",
        "    # Cria um serviço de sessão em memória\n",
        "    session_service = InMemorySessionService()\n",
        "    # Cria uma nova sessão (você pode personalizar os IDs conforme necessário)\n",
        "    session = session_service.create_session(app_name=agent.name, user_id=\"user1\", session_id=\"session1\")\n",
        "    # Cria um Runner para o agente\n",
        "    runner = Runner(agent=agent, app_name=agent.name, session_service=session_service)\n",
        "    # Cria o conteúdo da mensagem de entrada\n",
        "    content = types.Content(role=\"user\", parts=[types.Part(text=message_text)])\n",
        "\n",
        "    final_response = \"\"\n",
        "    # Itera assincronamente pelos eventos retornados durante a execução do agente\n",
        "    for event in runner.run(user_id=\"user1\", session_id=\"session1\", new_message=content):\n",
        "        if event.is_final_response():\n",
        "          for part in event.content.parts:\n",
        "            if part.text is not None:\n",
        "              final_response += part.text\n",
        "              final_response += \"\\n\"\n",
        "    return final_response"
      ],
      "metadata": {
        "id": "_xP4lWhsS5ko"
      },
      "execution_count": null,
      "outputs": []
    },
    {
      "cell_type": "code",
      "source": [
        "# Função auxiliar para exibir texto formatado em Markdown no Colab\n",
        "def to_markdown(text):\n",
        "  text = text.replace('•', '  *')\n",
        "  return Markdown(textwrap.indent(text, '> ', predicate=lambda _: True))"
      ],
      "metadata": {
        "id": "8dosiodaxfFR"
      },
      "execution_count": null,
      "outputs": []
    },
    {
      "cell_type": "code",
      "source": [
        "##########################################\n",
        "# --- Agente 1: Buscador de Médicos e Clínicas --- #\n",
        "##########################################\n",
        "def agente_buscador(localidade, especialidade):\n",
        "    buscador = Agent(\n",
        "        name=\"agente_buscador\",\n",
        "        model=\"gemini-2.0-flash\",\n",
        "        instruction=\"\"\"\n",
        "        Você é um assistente de pesquisa. A sua tarefa é usar a ferramenta de busca do google (google_search)\n",
        "        para identificar médicos e clínicas na cidade e na especialidade indicadas.\n",
        "        Foque em no mínimo 5 e no máximo 15 lançamentos relevantes, com base nas avaliações, caso hajam, e no entusiasmo dessas avaliações.\n",
        "        Se um médico ou clínica tiver poucas reações entusiasmadas ou tiver mais avaliações negativas do que positivas, é possível que ele não seja tão relevante assim\n",
        "        e pode ser substituído por outro que tenha mais.\n",
        "        Esses lançmentos relevantes devem ser atuais, de no máximo um ano antes da data de hoje.\n",
        "        \"\"\",\n",
        "        description=\"Agente que busca informações no Google\",\n",
        "        tools=[google_search]\n",
        "    )\n",
        "\n",
        "    entrada_do_agente_buscador = f\"Localidade: {localidade}\\nEspecialidade Médica: {especialidade}\"\n",
        "\n",
        "    # Executa o agente\n",
        "    lancamentos = call_agent(buscador, entrada_do_agente_buscador)\n",
        "    return lancamentos"
      ],
      "metadata": {
        "id": "o8bqIfi_DyH8"
      },
      "execution_count": null,
      "outputs": []
    },
    {
      "cell_type": "code",
      "source": [
        "############################################################\n",
        "# --- Agente 2: Avaliador dos Especilistas localizados --- #\n",
        "############################################################\n",
        "def agente_avaliador(especialidade, lancamentos):\n",
        "    avaliador = Agent(\n",
        "        name=\"agente_avaliador\",\n",
        "        model=\"gemini-2.0-flash\",\n",
        "        # Inserir as instruções do Agente Avaliador\n",
        "        instruction=\"\"\"\n",
        "        Você é um avaliador de reputação, especialista em medicina. Com base na lista de\n",
        "        lançamentos mais recentes e relevantes buscados, você deve:\n",
        "        Usar a ferramenta de busca do Google (google_search) para definir a reputação de cada\n",
        "        especialista (médico ou clínica). Você também pode usar o (google_search) para encontrar mais\n",
        "        informações sobre esse profissionais e estabelecimentos.\n",
        "        Ao final, você irá escolher os médicos e estabelecimentos melhor avaliados e com melhor\n",
        "        reputação.\n",
        "        \"\"\",\n",
        "        description=\"Agente que avalia as indicações\",\n",
        "        tools=[google_search]\n",
        "    )\n",
        "\n",
        "    entrada_do_agente_avaliador = f\"Especialidade:{especialidade}\\nLançamentos buscados: {lancamentos_buscados}\"\n",
        "    # Executa o agente\n",
        "    lista_indicados = call_agent(avaliador, entrada_do_agente_avaliador)\n",
        "    return lista_indicados"
      ],
      "metadata": {
        "id": "y3VO1uo5_ghO"
      },
      "execution_count": null,
      "outputs": []
    },
    {
      "cell_type": "code",
      "source": [
        "##########################################\n",
        "# --- Agente 3: Redator da Indicação --- #\n",
        "##########################################\n",
        "def agente_redator(especialidade, lista_indicados):\n",
        "    redator = Agent(\n",
        "        name=\"agente_redator\",\n",
        "        model=\"gemini-2.0-flash\",\n",
        "        instruction=\"\"\"\n",
        "            Você é uma Secretária especializada em criar documentos e listas.\n",
        "            Utilize as indicações fornecidas na Lista de indicados, com base nisso,\n",
        "            faça uma lista com o nome do Médico ou Estabelecimento, um sucinta avaliação, o telefone de contato, e o link do website onde foi encontrada a informação via (google_search).\n",
        "            A lista deve ser organizada e de fácil entendimento.\n",
        "            \"\"\",\n",
        "        description=\"Agente redator da lista de Indicações\"\n",
        "    )\n",
        "    entrada_do_agente_redator = f\"Especilidade: {especialidade}\\nLista de Indicados: {lista_indicados}\"\n",
        "    # Executa o agente\n",
        "    lista = call_agent(redator, entrada_do_agente_redator)\n",
        "    return lista"
      ],
      "metadata": {
        "id": "uOqlg2TRLVh1"
      },
      "execution_count": null,
      "outputs": []
    },
    {
      "cell_type": "code",
      "source": [
        "data_de_hoje = date.today().strftime(\"%d/%m/%Y\")\n",
        "\n",
        "print(\"🩺 Iniciando o Sistema de Indicação de Especialistas Médicos ﮩ٨ـﮩﮩ٨ـ♡ﮩ٨ـﮩﮩ٨ـ\")\n",
        "\n",
        "# --- Obter o Tópico do Usuário ---\n",
        "localidade = input(\"❓ Por favor, digite a LOCALIDADE sobre o qual você quer indicações: \")\n",
        "\n",
        "# Inserir lógica do sistema de agentes\n",
        "if not localidade:\n",
        "  print(\"Por favor, insira uma localidade.\")\n",
        "  localidade = input(\"❓ Por favor, digite a LOCALIDADE sobre o qual você quer indicações: \")\n",
        "else:\n",
        "  especialidade = input(\"❓ Por favor, digite a ESPECIALIDADE médica sobre o qual você quer indicações: \")\n",
        "  if not especialidade:\n",
        "    print(\"Por favor, insira uma especialidade médica.\")\n",
        "    especialidade = input(\"❓ Por favor, digite a ESPECIALIDADE médica sobre o qual você quer indicações: \")\n",
        "  else:\n",
        "    print(f\"Perfeito! Vamos então criar uma Lista de indicações de {especialidade} em {localidade}!\")\n",
        "\n",
        "  # Incluindo o agente buscador\n",
        "  lancamentos_buscados = agente_buscador(localidade, especialidade)\n",
        "  print(\"\\n--- Resultado do Agente 1 (Buscador) ---\\n\")\n",
        "  display(to_markdown(lancamentos_buscados))\n",
        "  print(\"-------------------------------------------------------------------\")\n",
        "\n",
        " # Incluindo o agente avaliador\n",
        "  lista_indicados = agente_avaliador(especialidade, lancamentos_buscados)\n",
        "  print(\"\\n--- Resultado do Agente 2 (Avaliador) ---\\n\")\n",
        "  display(to_markdown(lista_indicados))\n",
        "  print(\"-------------------------------------------------------------------\")\n",
        "\n",
        "# Incluindo o Agente Redator da Lista\n",
        "  rascunho_da_lista = agente_redator(especialidade, lista_indicados)\n",
        "  print(\"\\n--- Resultado do Agente 3 (Redator) ---\\n\")\n",
        "  display(to_markdown(rascunho_da_lista))\n",
        "  print(\"-------------------------------------------------------------------\")"
      ],
    }
  ]
}
